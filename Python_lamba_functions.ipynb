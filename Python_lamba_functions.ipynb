{
  "nbformat": 4,
  "nbformat_minor": 0,
  "metadata": {
    "colab": {
      "provenance": [],
      "authorship_tag": "ABX9TyPzR/uz3bJyFurr2eDOp2yK",
      "include_colab_link": true
    },
    "kernelspec": {
      "name": "python3",
      "display_name": "Python 3"
    },
    "language_info": {
      "name": "python"
    }
  },
  "cells": [
    {
      "cell_type": "markdown",
      "metadata": {
        "id": "view-in-github",
        "colab_type": "text"
      },
      "source": [
        "<a href=\"https://colab.research.google.com/github/Jaishreesrinivasan24/Python/blob/main/Python_lamba_functions.ipynb\" target=\"_parent\"><img src=\"https://colab.research.google.com/assets/colab-badge.svg\" alt=\"Open In Colab\"/></a>"
      ]
    },
    {
      "cell_type": "markdown",
      "source": [
        "**Q1. Create a python program to sort the given list of tuples based on integer value using a\n",
        "lambda function.\n",
        "[('Sachin Tendulkar', 34357), ('Ricky Ponting', 27483), ('Jack Kallis', 25534), ('Virat Kohli', 24936)] ** **bold text**"
      ],
      "metadata": {
        "id": "JDwI-kdU7Rrp"
      }
    },
    {
      "cell_type": "code",
      "execution_count": 2,
      "metadata": {
        "colab": {
          "base_uri": "https://localhost:8080/"
        },
        "id": "Oug53iCp44nB",
        "outputId": "1fecde24-cf71-48d9-9f90-8e55a997b86a"
      },
      "outputs": [
        {
          "output_type": "stream",
          "name": "stdout",
          "text": [
            "('Virat Kohli', 24936)\n",
            "('Jack Kallis', 25534)\n",
            "('Ricky Ponting', 27483)\n",
            "('Sachin Tendulkar', 34357)\n"
          ]
        }
      ],
      "source": [
        "listofnames = [('Sachin Tendulkar', 34357), ('Ricky Ponting', 27483), ('Jack Kallis', 25534), ('Virat Kohli', 24936)]\n",
        "\n",
        "sorted_data = sorted(listofnames, key=lambda x: x[1])\n",
        "\n",
        "for item in sorted_data:\n",
        "    print(item)\n"
      ]
    },
    {
      "cell_type": "markdown",
      "source": [
        "**Q2. Write a Python Program to find the squares of all the numbers in the given list of integers using\n",
        "lambda and map functions.\n",
        "[1, 2, 3, 4, 5, 6, 7, 8, 9, 10]**"
      ],
      "metadata": {
        "id": "CXsfUScy7kVw"
      }
    },
    {
      "cell_type": "code",
      "source": [
        "num = [1, 2, 3, 4, 5, 6, 7, 8, 9, 10]\n",
        "\n",
        "squares = list(map(lambda x: x**2, num))\n",
        "\n",
        "print(\"list of integers\", num)\n",
        "print(\"Squares:\", squares)\n"
      ],
      "metadata": {
        "colab": {
          "base_uri": "https://localhost:8080/"
        },
        "id": "q9aKWukd69jk",
        "outputId": "9fb33abe-54e6-4fbb-b5b0-68bfcc939cf7"
      },
      "execution_count": 12,
      "outputs": [
        {
          "output_type": "stream",
          "name": "stdout",
          "text": [
            "list of integers [1, 2, 3, 4, 5, 6, 7, 8, 9, 10]\n",
            "Squares: [1, 4, 9, 16, 25, 36, 49, 64, 81, 100]\n"
          ]
        }
      ]
    },
    {
      "cell_type": "markdown",
      "source": [
        "***Q3. Write a python program to convert the given list of integers into a tuple of strings. Use map and\n",
        "lambda functions\n",
        "Given String: [1, 2, 3, 4, 5, 6, 7, 8, 9, 10]\n",
        "Expected output: ('1', '2', '3', '4', '5', '6', '7', '8', '9', '10')***"
      ],
      "metadata": {
        "id": "CmgsJgKg76ee"
      }
    },
    {
      "cell_type": "code",
      "source": [
        "string_tuple = tuple(map(lambda x: str(x), num))\n",
        "print(\"list of integers:\", num)\n",
        "print(\"Tuple of strings:\", string_tuple)\n"
      ],
      "metadata": {
        "colab": {
          "base_uri": "https://localhost:8080/"
        },
        "id": "dWJCrb2q76y-",
        "outputId": "d61725c8-8d0b-4789-ed85-3945d05f4115"
      },
      "execution_count": 10,
      "outputs": [
        {
          "output_type": "stream",
          "name": "stdout",
          "text": [
            "list of integers: [1, 2, 3, 4, 5, 6, 7, 8, 9, 10]\n",
            "Tuple of strings: ('1', '2', '3', '4', '5', '6', '7', '8', '9', '10')\n"
          ]
        }
      ]
    },
    {
      "cell_type": "markdown",
      "source": [
        "**Q4. Write a python program using reduce function to compute the product of a list containing numbers\n",
        "from 1 to 25.**"
      ],
      "metadata": {
        "id": "guh8Hx_M77af"
      }
    },
    {
      "cell_type": "code",
      "source": [
        "from functools import reduce\n",
        "numbers = list(range(1, 26))\n",
        "prod = reduce(lambda x, y: x * y, numbers)\n",
        "print(\"List of numbers:\", numbers)\n",
        "print(\"Product:\", prod)\n"
      ],
      "metadata": {
        "colab": {
          "base_uri": "https://localhost:8080/"
        },
        "id": "zilu_uE_77ry",
        "outputId": "2e1c23cf-8c74-4fd9-ac27-84e9ca77e448"
      },
      "execution_count": 11,
      "outputs": [
        {
          "output_type": "stream",
          "name": "stdout",
          "text": [
            "List of numbers: [1, 2, 3, 4, 5, 6, 7, 8, 9, 10, 11, 12, 13, 14, 15, 16, 17, 18, 19, 20, 21, 22, 23, 24, 25]\n",
            "Product: 15511210043330985984000000\n"
          ]
        }
      ]
    },
    {
      "cell_type": "markdown",
      "source": [
        "**Q5. Write a python program to filter the numbers in a given list that are divisible by 2 and 3 using the\n",
        "filter function.\n",
        "[2, 3, 6, 9, 27, 60, 90, 120, 55, 46]**"
      ],
      "metadata": {
        "id": "rBG7GvFj777C"
      }
    },
    {
      "cell_type": "code",
      "source": [
        "List_of_num = [2, 3, 6, 9, 27, 60, 90, 120, 55, 46]\n",
        "filtered_numbers = list(filter(lambda x: x % 2 == 0 and x % 3 == 0, List_of_num))\n",
        "print(\"List of numbers:\", List_of_num)\n",
        "print(\"Numbers divisible by 2 and 3:\", filtered_numbers)\n"
      ],
      "metadata": {
        "colab": {
          "base_uri": "https://localhost:8080/"
        },
        "id": "C3PwpQpn78La",
        "outputId": "6aa5b855-c1f4-48c6-b727-bf3519e77128"
      },
      "execution_count": 8,
      "outputs": [
        {
          "output_type": "stream",
          "name": "stdout",
          "text": [
            "List of numbers: [2, 3, 6, 9, 27, 60, 90, 120, 55, 46]\n",
            "Numbers divisible by 2 and 3: [6, 60, 90, 120]\n"
          ]
        }
      ]
    },
    {
      "cell_type": "markdown",
      "source": [
        "**Q6. Write a python program to find palindromes in the given list of strings using lambda and filter\n",
        "function.\n",
        "['python', 'php', 'aba', 'radar', 'level']**"
      ],
      "metadata": {
        "id": "gPbQdaED78lq"
      }
    },
    {
      "cell_type": "code",
      "source": [
        "strings = ['python', 'php', 'aba', 'radar', 'level']\n",
        "palindromes = list(filter(lambda x: x == x[::-1], strings))\n",
        "print(\"List of strings:\", strings)\n",
        "print(\"Palindromes:\", palindromes)\n"
      ],
      "metadata": {
        "colab": {
          "base_uri": "https://localhost:8080/"
        },
        "id": "93vOHZo2782a",
        "outputId": "d54c18c1-b0d0-4eba-f368-f0624150eb22"
      },
      "execution_count": 9,
      "outputs": [
        {
          "output_type": "stream",
          "name": "stdout",
          "text": [
            "List of strings: ['python', 'php', 'aba', 'radar', 'level']\n",
            "Palindromes: ['php', 'aba', 'radar', 'level']\n"
          ]
        }
      ]
    }
  ]
}